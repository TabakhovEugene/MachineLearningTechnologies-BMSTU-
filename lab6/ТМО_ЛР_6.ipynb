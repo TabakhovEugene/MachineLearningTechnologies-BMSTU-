{
  "nbformat": 4,
  "nbformat_minor": 0,
  "metadata": {
    "colab": {
      "provenance": []
    },
    "kernelspec": {
      "name": "python3",
      "display_name": "Python 3"
    },
    "language_info": {
      "name": "python"
    }
  },
  "cells": [
    {
      "cell_type": "code",
      "source": [
        "!pip install gmdh"
      ],
      "metadata": {
        "colab": {
          "base_uri": "https://localhost:8080/"
        },
        "id": "h-2YBdrvBnLx",
        "outputId": "e5ddaf41-e7d7-4ce6-ea54-1e2697c7f77c"
      },
      "execution_count": null,
      "outputs": [
        {
          "output_type": "stream",
          "name": "stdout",
          "text": [
            "Collecting gmdh\n",
            "  Downloading gmdh-1.0.3-cp311-cp311-manylinux1_x86_64.whl.metadata (14 kB)\n",
            "Collecting docstring-inheritance (from gmdh)\n",
            "  Downloading docstring_inheritance-2.2.2-py3-none-any.whl.metadata (11 kB)\n",
            "Requirement already satisfied: numpy in /usr/local/lib/python3.11/dist-packages (from gmdh) (2.0.2)\n",
            "Downloading gmdh-1.0.3-cp311-cp311-manylinux1_x86_64.whl (875 kB)\n",
            "\u001b[2K   \u001b[90m━━━━━━━━━━━━━━━━━━━━━━━━━━━━━━━━━━━━━━━━\u001b[0m \u001b[32m875.1/875.1 kB\u001b[0m \u001b[31m12.6 MB/s\u001b[0m eta \u001b[36m0:00:00\u001b[0m\n",
            "\u001b[?25hDownloading docstring_inheritance-2.2.2-py3-none-any.whl (24 kB)\n",
            "Installing collected packages: docstring-inheritance, gmdh\n",
            "Successfully installed docstring-inheritance-2.2.2 gmdh-1.0.3\n"
          ]
        }
      ]
    },
    {
      "cell_type": "code",
      "source": [
        "!sudo update-alternatives --install /usr/bin/python3 python3 /usr/bin/python3.6"
      ],
      "metadata": {
        "colab": {
          "base_uri": "https://localhost:8080/"
        },
        "id": "G0JR7hKeEIZ4",
        "outputId": "fdfab295-7967-4788-84f4-78897d8e86b9"
      },
      "execution_count": null,
      "outputs": [
        {
          "output_type": "stream",
          "name": "stdout",
          "text": [
            "update-alternatives: --install needs <link> <name> <path> <priority>\n",
            "\n",
            "Use 'update-alternatives --help' for program usage information.\n"
          ]
        }
      ]
    },
    {
      "cell_type": "code",
      "source": [
        "import sys\n",
        "print(sys.version)"
      ],
      "metadata": {
        "colab": {
          "base_uri": "https://localhost:8080/"
        },
        "id": "k7Nt_9dFFpPW",
        "outputId": "b283a0e0-f725-4636-ad8c-677e8dd33939"
      },
      "execution_count": null,
      "outputs": [
        {
          "output_type": "stream",
          "name": "stdout",
          "text": [
            "3.11.12 (main, Apr  9 2025, 08:55:54) [GCC 11.4.0]\n"
          ]
        }
      ]
    },
    {
      "cell_type": "code",
      "source": [
        "!pip install numpy==1.24.4"
      ],
      "metadata": {
        "colab": {
          "base_uri": "https://localhost:8080/"
        },
        "id": "1VyCUoC-HIM4",
        "outputId": "ab3d180c-7e7b-4ee9-90c8-33b64d0a0eff"
      },
      "execution_count": null,
      "outputs": [
        {
          "output_type": "stream",
          "name": "stdout",
          "text": [
            "Requirement already satisfied: numpy==1.24.4 in /usr/local/lib/python3.11/dist-packages (1.24.4)\n"
          ]
        }
      ]
    },
    {
      "cell_type": "markdown",
      "source": [
        "1. Подготовка данных"
      ],
      "metadata": {
        "id": "52sc_y3YBQz5"
      }
    },
    {
      "cell_type": "code",
      "source": [
        "import numpy as np\n",
        "import pandas as pd\n",
        "from sklearn.datasets import fetch_california_housing\n",
        "from sklearn.model_selection import train_test_split\n",
        "from sklearn.preprocessing import StandardScaler\n",
        "from sklearn.impute import SimpleImputer\n",
        "from sklearn.metrics import mean_squared_error, r2_score\n",
        "from sklearn.ensemble import RandomForestRegressor, GradientBoostingRegressor\n",
        "from sklearn.neural_network import MLPRegressor\n",
        "from sklearn.linear_model import LinearRegression\n",
        "from sklearn.pipeline import Pipeline\n",
        "from sklearn.compose import ColumnTransformer\n",
        "from sklearn.preprocessing import OneHotEncoder\n",
        "from sklearn.ensemble import StackingRegressor\n",
        "import matplotlib.pyplot as plt\n",
        "import gmdh\n",
        "import warnings\n",
        "warnings.filterwarnings('ignore')\n",
        "\n",
        "# Загрузка набора данных California Housing\n",
        "housing = fetch_california_housing()\n",
        "X = pd.DataFrame(housing.data, columns=housing.feature_names)\n",
        "y = housing.target\n",
        "\n",
        "# Проверка на пропуски\n",
        "print(\"Пропуски в данных:\", X.isnull().sum().sum())\n",
        "\n",
        "# Разделение выборки на обучающую и тестовую\n",
        "X_train, X_test, y_train, y_test = train_test_split(\n",
        "    X, y, test_size=0.2, random_state=42)\n",
        "\n",
        "# Масштабирование признаков\n",
        "scaler = StandardScaler()\n",
        "X_train_scaled = scaler.fit_transform(X_train)\n",
        "X_test_scaled = scaler.transform(X_test)\n",
        "\n",
        "print(f\"Размер обучающей выборки: {X_train.shape}\")\n",
        "print(f\"Размер тестовой выборки: {X_test.shape}\")"
      ],
      "metadata": {
        "colab": {
          "base_uri": "https://localhost:8080/"
        },
        "collapsed": true,
        "id": "BHZpFiIkBTTp",
        "outputId": "e19eb75f-05cb-4873-bead-162c4632fdda"
      },
      "execution_count": null,
      "outputs": [
        {
          "output_type": "stream",
          "name": "stdout",
          "text": [
            "Пропуски в данных: 0\n",
            "Размер обучающей выборки: (16512, 8)\n",
            "Размер тестовой выборки: (4128, 8)\n"
          ]
        }
      ]
    },
    {
      "cell_type": "markdown",
      "source": [
        "2. Обучение моделей"
      ],
      "metadata": {
        "id": "HKZ85f2iB0o7"
      }
    },
    {
      "cell_type": "markdown",
      "source": [
        "2.1 Модель стекинга"
      ],
      "metadata": {
        "id": "9catrRGdB5nV"
      }
    },
    {
      "cell_type": "code",
      "source": [
        "# Создание базовых моделей для стекинга\n",
        "base_models = [\n",
        "    ('rf', RandomForestRegressor(n_estimators=100, random_state=42)),\n",
        "    ('gb', GradientBoostingRegressor(n_estimators=100, random_state=42))\n",
        "]\n",
        "\n",
        "# Создание мета-модели\n",
        "meta_model = LinearRegression()\n",
        "\n",
        "# Создание стекинг-модели\n",
        "stacking_model = StackingRegressor(\n",
        "    estimators=base_models,\n",
        "    final_estimator=meta_model,\n",
        "    cv=5\n",
        ")\n",
        "\n",
        "# Обучение модели стекинга\n",
        "stacking_model.fit(X_train_scaled, y_train)\n",
        "\n",
        "# Предсказание на тестовой выборке\n",
        "y_pred_stacking = stacking_model.predict(X_test_scaled)\n",
        "\n",
        "# Оценка качества модели\n",
        "mse_stacking = mean_squared_error(y_test, y_pred_stacking)\n",
        "r2_stacking = r2_score(y_test, y_pred_stacking)\n",
        "\n",
        "print(f\"Stacking - MSE: {mse_stacking:.4f}, R2: {r2_stacking:.4f}\")"
      ],
      "metadata": {
        "colab": {
          "base_uri": "https://localhost:8080/"
        },
        "id": "BdGzPV8wB74E",
        "outputId": "26402a74-5e01-4cca-b58a-6f3098a3b95e"
      },
      "execution_count": null,
      "outputs": [
        {
          "output_type": "stream",
          "name": "stdout",
          "text": [
            "Stacking - MSE: 0.2534, R2: 0.8066\n"
          ]
        }
      ]
    },
    {
      "cell_type": "markdown",
      "source": [
        "2.2 Многослойный персептрон (MLP)"
      ],
      "metadata": {
        "id": "fWrD-FAvCOUV"
      }
    },
    {
      "cell_type": "code",
      "source": [
        "# Создание и обучение модели MLP\n",
        "mlp_model = MLPRegressor(\n",
        "    hidden_layer_sizes=(100, 50),\n",
        "    activation='relu',\n",
        "    solver='adam',\n",
        "    alpha=0.0001,\n",
        "    max_iter=1000,\n",
        "    random_state=42\n",
        ")\n",
        "\n",
        "mlp_model.fit(X_train_scaled, y_train)\n",
        "\n",
        "# Предсказание на тестовой выборке\n",
        "y_pred_mlp = mlp_model.predict(X_test_scaled)\n",
        "\n",
        "# Оценка качества модели\n",
        "mse_mlp = mean_squared_error(y_test, y_pred_mlp)\n",
        "r2_mlp = r2_score(y_test, y_pred_mlp)\n",
        "\n",
        "print(f\"MLP - MSE: {mse_mlp:.4f}, R2: {r2_mlp:.4f}\")"
      ],
      "metadata": {
        "colab": {
          "base_uri": "https://localhost:8080/"
        },
        "id": "CaLeIBvtCPCk",
        "outputId": "6733f38d-40a0-4192-cc98-3b3902b21552"
      },
      "execution_count": null,
      "outputs": [
        {
          "output_type": "stream",
          "name": "stdout",
          "text": [
            "MLP - MSE: 0.2710, R2: 0.7932\n"
          ]
        }
      ]
    },
    {
      "cell_type": "markdown",
      "source": [
        "2.3 Модели МГУА (GMDH)"
      ],
      "metadata": {
        "id": "dautpQtzCuHr"
      }
    },
    {
      "cell_type": "code",
      "source": [
        "from gmdh import Combi, Mia\n",
        "\n",
        "# Линейный метод COMBI\n",
        "combi_model = Combi()\n",
        "combi_model.fit(X_train_scaled, y_train)\n",
        "\n",
        "# Предсказание на тестовой выборке\n",
        "y_pred_combi = combi_model.predict(X_test_scaled)\n",
        "\n",
        "# Оценка качества модели\n",
        "mse_combi = mean_squared_error(y_test, y_pred_combi)\n",
        "r2_combi = r2_score(y_test, y_pred_combi)\n",
        "\n",
        "print(f\"COMBI - MSE: {mse_combi:.4f}, R2: {r2_combi:.4f}\")\n",
        "\n",
        "# Нелинейный метод MIA\n",
        "mia_model = Mia()  # Используем Mia напрямую, а не gmdh.Mia()\n",
        "mia_model.fit(X_train_scaled, y_train)\n",
        "\n",
        "# Предсказание на тестовой выборке\n",
        "y_pred_mia = mia_model.predict(X_test_scaled)\n",
        "\n",
        "# Оценка качества модели\n",
        "mse_mia = mean_squared_error(y_test, y_pred_mia)\n",
        "r2_mia = r2_score(y_test, y_pred_mia)\n",
        "\n",
        "print(f\"MIA - MSE: {mse_mia:.4f}, R2: {r2_mia:.4f}\")"
      ],
      "metadata": {
        "colab": {
          "base_uri": "https://localhost:8080/"
        },
        "id": "f6YN64eUCuq1",
        "outputId": "27837680-e46f-4b83-a3d6-6cd4004217d8"
      },
      "execution_count": null,
      "outputs": [
        {
          "output_type": "stream",
          "name": "stdout",
          "text": [
            "COMBI - MSE: 0.5567, R2: 0.5752\n",
            "MIA - MSE: 0.6363, R2: 0.5144\n"
          ]
        }
      ]
    }
  ]
}